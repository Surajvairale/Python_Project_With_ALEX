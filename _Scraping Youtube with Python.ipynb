{
 "cells": [
  {
   "cell_type": "code",
   "execution_count": 1,
   "id": "94ceb685",
   "metadata": {},
   "outputs": [],
   "source": [
    "from pytube import YouTube"
   ]
  },
  {
   "cell_type": "code",
   "execution_count": null,
   "id": "38edeadd",
   "metadata": {},
   "outputs": [],
   "source": [
    "link = input(\"Enter link of Youtube video: \")\n",
    "yt = Youtube(\"Link\")"
   ]
  },
  {
   "cell_type": "code",
   "execution_count": null,
   "id": "17edbbb5",
   "metadata": {},
   "outputs": [],
   "source": [
    "# To print title\n",
    "print(\"Title: \", yt.title)\n",
    "\n",
    "# To get number of views\n",
    "print(\"views : \",yt.views)\n",
    "\n",
    "# To get the length of video\n",
    "print(\"Duration :\", yt.length)\n",
    "\n",
    "# To get description\n",
    "print(\"Description : \", yt.description)\n",
    "\n",
    "# To get ratings\n",
    "print(\"Ratings  :\", yt.rating)\n"
   ]
  }
 ],
 "metadata": {
  "kernelspec": {
   "display_name": "Python 3 (ipykernel)",
   "language": "python",
   "name": "python3"
  },
  "language_info": {
   "codemirror_mode": {
    "name": "ipython",
    "version": 3
   },
   "file_extension": ".py",
   "mimetype": "text/x-python",
   "name": "python",
   "nbconvert_exporter": "python",
   "pygments_lexer": "ipython3",
   "version": "3.9.12"
  }
 },
 "nbformat": 4,
 "nbformat_minor": 5
}
